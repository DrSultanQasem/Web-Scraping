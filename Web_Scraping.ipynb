{
  "nbformat": 4,
  "nbformat_minor": 0,
  "metadata": {
    "kernelspec": {
      "display_name": "Python 3",
      "language": "python",
      "name": "python3"
    },
    "language_info": {
      "codemirror_mode": {
        "name": "ipython",
        "version": 3
      },
      "file_extension": ".py",
      "mimetype": "text/x-python",
      "name": "python",
      "nbconvert_exporter": "python",
      "pygments_lexer": "ipython3",
      "version": "3.6.1"
    },
    "colab": {
      "name": "Web Scraping.ipynb",
      "provenance": [],
      "include_colab_link": true
    }
  },
  "cells": [
    {
      "cell_type": "markdown",
      "metadata": {
        "id": "view-in-github",
        "colab_type": "text"
      },
      "source": [
        "<a href=\"https://colab.research.google.com/github/Ruqyai/Web-Scraping/blob/master/Web_Scraping.ipynb\" target=\"_parent\"><img src=\"https://colab.research.google.com/assets/colab-badge.svg\" alt=\"Open In Colab\"/></a>"
      ]
    },
    {
      "cell_type": "markdown",
      "metadata": {
        "id": "pK3jb2efyY4f",
        "colab_type": "text"
      },
      "source": [
        "#Web Scraping"
      ]
    },
    {
      "cell_type": "markdown",
      "metadata": {
        "id": "H4e_B70DNSxL",
        "colab_type": "text"
      },
      "source": [
        "<h1>Basic Steps:</h1>"
      ]
    },
    {
      "cell_type": "markdown",
      "metadata": {
        "id": "8WjSKsHryfm7",
        "colab_type": "text"
      },
      "source": [
        "* Find the URL that you want to scrape.\n",
        "* Inspecting the elements of the page.\n",
        "* Bring the Html page using the URL.\n",
        "* Find the data you want to extract.\n",
        "* Write the code for scraping the specific HTML Tag that you want.\n",
        "* Parse it if that's necessary.\n",
        "* Run the code and extract the data.\n",
        "* Store the data in the required format, e.g. CSV.\n",
        "* You can use pandas to show the result before or after saved.\n",
        "\n"
      ]
    },
    {
      "cell_type": "markdown",
      "metadata": {
        "id": "GS65okPvdYLD",
        "colab_type": "text"
      },
      "source": [
        "##Find the URL that you want to scrape."
      ]
    },
    {
      "cell_type": "markdown",
      "metadata": {
        "id": "XPmRJfRoLKhj",
        "colab_type": "text"
      },
      "source": [
        "The URL that we will use"
      ]
    },
    {
      "cell_type": "markdown",
      "metadata": {
        "id": "TarJNqW_FiVh",
        "colab_type": "text"
      },
      "source": [
        "http://www.pythonscraping.com/pages/page3.html"
      ]
    },
    {
      "cell_type": "markdown",
      "metadata": {
        "id": "n6nc-pIiLVnt",
        "colab_type": "text"
      },
      "source": [
        "Remember robots.txt file  \n",
        "\n",
        "http://www.pythonscraping.com/robots.txt\n"
      ]
    },
    {
      "cell_type": "markdown",
      "metadata": {
        "id": "Ly0UbOsrqR68",
        "colab_type": "text"
      },
      "source": [
        "You need basic knowledge with HTML and CSS. Also, you’ll need to understand the site structure to extract the information you’re interested in."
      ]
    },
    {
      "cell_type": "markdown",
      "metadata": {
        "id": "2KkyJ1IE7JuQ",
        "colab_type": "text"
      },
      "source": [
        "![alt text](https://github.com/Ruqyai/Web-Scraper/blob/master/web/html.png?raw=true)"
      ]
    },
    {
      "cell_type": "markdown",
      "metadata": {
        "id": "DwhdTDYaZrJ6",
        "colab_type": "text"
      },
      "source": [
        "##Inspecting the elements of the page"
      ]
    },
    {
      "cell_type": "markdown",
      "metadata": {
        "id": "YaILYVOIo6Jo",
        "colab_type": "text"
      },
      "source": [
        "<img src=\"https://3.bp.blogspot.com/-AD-DM0S6tPc/VJE3ZPA9PUI/AAAAAAAADtw/-FTCawVS1_s/s1600/inspect-element.gif\" width=100% />\n"
      ]
    },
    {
      "cell_type": "markdown",
      "metadata": {
        "id": "SZyYiwXdpYJS",
        "colab_type": "text"
      },
      "source": [
        "<img src=\"https://lh3.googleusercontent.com/proxy/8oXttju3H-nUClaQGPSfDihbVFbxzGv70G0dRST1kqVW2NKLe788t6MyIdpa6_ETppPDivHaKDefGProsotCm-E52FFHiQpO_cZgAE6cgna4ECVu8Tv66wf2DpYf6Q31og\" width=100% />"
      ]
    },
    {
      "cell_type": "markdown",
      "metadata": {
        "id": "M6YFZC6yZw0n",
        "colab_type": "text"
      },
      "source": [
        "\n",
        "<img src=\"https://iamvdo.me/content/01-blog/32-le-debug-css-est-difficile/2-apple-inspecting.gif\" width=100% />\n"
      ]
    },
    {
      "cell_type": "markdown",
      "metadata": {
        "id": "yXdkIUo1K5I-",
        "colab_type": "text"
      },
      "source": [
        "#Example 1"
      ]
    },
    {
      "cell_type": "markdown",
      "metadata": {
        "id": "L_509DUGLxsJ",
        "colab_type": "text"
      },
      "source": [
        "##Bring the Html page using the URL."
      ]
    },
    {
      "cell_type": "code",
      "metadata": {
        "id": "Xatv68fvFTE2",
        "colab_type": "code",
        "outputId": "f16831b0-5da7-4f94-a159-7a20de65dbc0",
        "colab": {
          "base_uri": "https://localhost:8080/",
          "height": 1000
        }
      },
      "source": [
        "from urllib.request import urlopen #help in opening URLs.\n",
        "from bs4 import BeautifulSoup #for pulling data out of HTML and XML files.\n",
        "import re #provides regular expression\n",
        "\n",
        "\n",
        "html = urlopen('http://www.pythonscraping.com/pages/page3.html')\n",
        "bs = BeautifulSoup(html, \"html.parser\")\n",
        "print(bs)"
      ],
      "execution_count": 26,
      "outputs": [
        {
          "output_type": "stream",
          "text": [
            "<html>\n",
            "<head>\n",
            "<style>\n",
            "img{\n",
            "\twidth:75px;\n",
            "}\n",
            "table{\n",
            "\twidth:50%;\n",
            "}\n",
            "td{\n",
            "\tmargin:10px;\n",
            "\tpadding:10px;\n",
            "}\n",
            ".wrapper{\n",
            "\twidth:800px;\n",
            "}\n",
            ".excitingNote{\n",
            "\tfont-style:italic;\n",
            "\tfont-weight:bold;\n",
            "}\n",
            "</style>\n",
            "</head>\n",
            "<body>\n",
            "<div id=\"wrapper\">\n",
            "<img src=\"../img/gifts/logo.jpg\" style=\"float:left;\"/>\n",
            "<h1>Totally Normal Gifts</h1>\n",
            "<div id=\"content\">Here is a collection of totally normal, totally reasonable gifts that your friends are sure to love! Our collection is\n",
            "hand-curated by well-paid, free-range Tibetan monks.<p>\n",
            "We haven't figured out how to make online shopping carts yet, but you can send us a check to:<br/>\n",
            "123 Main St.<br/>\n",
            "Abuja, Nigeria\n",
            "We will then send your totally amazing gift, pronto! Please include an extra $5.00 for gift wrapping.</p></div>\n",
            "<table id=\"giftList\">\n",
            "<tr><th>\n",
            "Item Title\n",
            "</th><th>\n",
            "Description\n",
            "</th><th>\n",
            "Cost\n",
            "</th><th>\n",
            "Image\n",
            "</th></tr>\n",
            "<tr class=\"gift\" id=\"gift1\"><td>\n",
            "Vegetable Basket\n",
            "</td><td>\n",
            "This vegetable basket is the perfect gift for your health conscious (or overweight) friends!\n",
            "<span class=\"excitingNote\">Now with super-colorful bell peppers!</span>\n",
            "</td><td>\n",
            "$15.00\n",
            "</td><td>\n",
            "<img src=\"../img/gifts/img1.jpg\"/>\n",
            "</td></tr>\n",
            "<tr class=\"gift\" id=\"gift2\"><td>\n",
            "Russian Nesting Dolls\n",
            "</td><td>\n",
            "Hand-painted by trained monkeys, these exquisite dolls are priceless! And by \"priceless,\" we mean \"extremely expensive\"! <span class=\"excitingNote\">8 entire dolls per set! Octuple the presents!</span>\n",
            "</td><td>\n",
            "$10,000.52\n",
            "</td><td>\n",
            "<img src=\"../img/gifts/img2.jpg\"/>\n",
            "</td></tr>\n",
            "<tr class=\"gift\" id=\"gift3\"><td>\n",
            "Fish Painting\n",
            "</td><td>\n",
            "If something seems fishy about this painting, it's because it's a fish! <span class=\"excitingNote\">Also hand-painted by trained monkeys!</span>\n",
            "</td><td>\n",
            "$10,005.00\n",
            "</td><td>\n",
            "<img src=\"../img/gifts/img3.jpg\"/>\n",
            "</td></tr>\n",
            "<tr class=\"gift\" id=\"gift4\"><td>\n",
            "Dead Parrot\n",
            "</td><td>\n",
            "This is an ex-parrot! <span class=\"excitingNote\">Or maybe he's only resting?</span>\n",
            "</td><td>\n",
            "$0.50\n",
            "</td><td>\n",
            "<img src=\"../img/gifts/img4.jpg\"/>\n",
            "</td></tr>\n",
            "<tr class=\"gift\" id=\"gift5\"><td>\n",
            "Mystery Box\n",
            "</td><td>\n",
            "If you love suprises, this mystery box is for you! Do not place on light-colored surfaces. May cause oil staining. <span class=\"excitingNote\">Keep your friends guessing!</span>\n",
            "</td><td>\n",
            "$1.50\n",
            "</td><td>\n",
            "<img src=\"../img/gifts/img6.jpg\"/>\n",
            "</td></tr>\n",
            "</table>\n",
            "</div></body></html>\n",
            "<div id=\"footer\">\n",
            "© Totally Normal Gifts, Inc. <br/>\n",
            "+234 (617) 863-0736\n",
            "</div>\n",
            "\n",
            "\n",
            "\n",
            "\n"
          ],
          "name": "stdout"
        }
      ]
    },
    {
      "cell_type": "markdown",
      "metadata": {
        "id": "bEkcq-_EeUH9",
        "colab_type": "text"
      },
      "source": [
        "##Find the data you want to extract."
      ]
    },
    {
      "cell_type": "markdown",
      "metadata": {
        "id": "LnwRKgKlJvG7",
        "colab_type": "text"
      },
      "source": [
        "##Write the code for scraping the specific HTML Tag that you want.\n"
      ]
    },
    {
      "cell_type": "code",
      "metadata": {
        "id": "yYpur5TGMJ_v",
        "colab_type": "code",
        "outputId": "302b98b0-840f-4fd6-eb4f-20c218de7a43",
        "colab": {
          "base_uri": "https://localhost:8080/",
          "height": 1000
        }
      },
      "source": [
        "#all div of the page\n",
        "print(bs.div)"
      ],
      "execution_count": 27,
      "outputs": [
        {
          "output_type": "stream",
          "text": [
            "<div id=\"wrapper\">\n",
            "<img src=\"../img/gifts/logo.jpg\" style=\"float:left;\"/>\n",
            "<h1>Totally Normal Gifts</h1>\n",
            "<div id=\"content\">Here is a collection of totally normal, totally reasonable gifts that your friends are sure to love! Our collection is\n",
            "hand-curated by well-paid, free-range Tibetan monks.<p>\n",
            "We haven't figured out how to make online shopping carts yet, but you can send us a check to:<br/>\n",
            "123 Main St.<br/>\n",
            "Abuja, Nigeria\n",
            "We will then send your totally amazing gift, pronto! Please include an extra $5.00 for gift wrapping.</p></div>\n",
            "<table id=\"giftList\">\n",
            "<tr><th>\n",
            "Item Title\n",
            "</th><th>\n",
            "Description\n",
            "</th><th>\n",
            "Cost\n",
            "</th><th>\n",
            "Image\n",
            "</th></tr>\n",
            "<tr class=\"gift\" id=\"gift1\"><td>\n",
            "Vegetable Basket\n",
            "</td><td>\n",
            "This vegetable basket is the perfect gift for your health conscious (or overweight) friends!\n",
            "<span class=\"excitingNote\">Now with super-colorful bell peppers!</span>\n",
            "</td><td>\n",
            "$15.00\n",
            "</td><td>\n",
            "<img src=\"../img/gifts/img1.jpg\"/>\n",
            "</td></tr>\n",
            "<tr class=\"gift\" id=\"gift2\"><td>\n",
            "Russian Nesting Dolls\n",
            "</td><td>\n",
            "Hand-painted by trained monkeys, these exquisite dolls are priceless! And by \"priceless,\" we mean \"extremely expensive\"! <span class=\"excitingNote\">8 entire dolls per set! Octuple the presents!</span>\n",
            "</td><td>\n",
            "$10,000.52\n",
            "</td><td>\n",
            "<img src=\"../img/gifts/img2.jpg\"/>\n",
            "</td></tr>\n",
            "<tr class=\"gift\" id=\"gift3\"><td>\n",
            "Fish Painting\n",
            "</td><td>\n",
            "If something seems fishy about this painting, it's because it's a fish! <span class=\"excitingNote\">Also hand-painted by trained monkeys!</span>\n",
            "</td><td>\n",
            "$10,005.00\n",
            "</td><td>\n",
            "<img src=\"../img/gifts/img3.jpg\"/>\n",
            "</td></tr>\n",
            "<tr class=\"gift\" id=\"gift4\"><td>\n",
            "Dead Parrot\n",
            "</td><td>\n",
            "This is an ex-parrot! <span class=\"excitingNote\">Or maybe he's only resting?</span>\n",
            "</td><td>\n",
            "$0.50\n",
            "</td><td>\n",
            "<img src=\"../img/gifts/img4.jpg\"/>\n",
            "</td></tr>\n",
            "<tr class=\"gift\" id=\"gift5\"><td>\n",
            "Mystery Box\n",
            "</td><td>\n",
            "If you love suprises, this mystery box is for you! Do not place on light-colored surfaces. May cause oil staining. <span class=\"excitingNote\">Keep your friends guessing!</span>\n",
            "</td><td>\n",
            "$1.50\n",
            "</td><td>\n",
            "<img src=\"../img/gifts/img6.jpg\"/>\n",
            "</td></tr>\n",
            "</table>\n",
            "</div>\n"
          ],
          "name": "stdout"
        }
      ]
    },
    {
      "cell_type": "code",
      "metadata": {
        "id": "A05dwf51s3Bi",
        "colab_type": "code",
        "outputId": "772b88d9-17f3-43cd-84f4-319581ecb571",
        "colab": {
          "base_uri": "https://localhost:8080/",
          "height": 102
        }
      },
      "source": [
        "#all paragraph of the page\n",
        "print(bs.p)"
      ],
      "execution_count": 28,
      "outputs": [
        {
          "output_type": "stream",
          "text": [
            "<p>\n",
            "We haven't figured out how to make online shopping carts yet, but you can send us a check to:<br/>\n",
            "123 Main St.<br/>\n",
            "Abuja, Nigeria\n",
            "We will then send your totally amazing gift, pronto! Please include an extra $5.00 for gift wrapping.</p>\n"
          ],
          "name": "stdout"
        }
      ]
    },
    {
      "cell_type": "code",
      "metadata": {
        "id": "XhfLrpbzKER-",
        "colab_type": "code",
        "outputId": "949a2a13-b6ab-4811-9837-13a5c6f4337e",
        "colab": {
          "base_uri": "https://localhost:8080/",
          "height": 102
        }
      },
      "source": [
        "#Finding paragraph tags <p> in another way and method .find_all()\n",
        "paragraphs = bs.body\n",
        "for paragraph in paragraphs.find_all('p'):\n",
        "    print(paragraph.text)"
      ],
      "execution_count": 29,
      "outputs": [
        {
          "output_type": "stream",
          "text": [
            "\n",
            "We haven't figured out how to make online shopping carts yet, but you can send us a check to:\n",
            "123 Main St.\n",
            "Abuja, Nigeria\n",
            "We will then send your totally amazing gift, pronto! Please include an extra $5.00 for gift wrapping.\n"
          ],
          "name": "stdout"
        }
      ]
    },
    {
      "cell_type": "code",
      "metadata": {
        "id": "VGj72p3_s5Xz",
        "colab_type": "code",
        "outputId": "4487e48b-8aa4-4fcd-8032-3f7e78835d87",
        "colab": {
          "base_uri": "https://localhost:8080/",
          "height": 34
        }
      },
      "source": [
        "#all header 1 of the page\n",
        "print(bs.h1)"
      ],
      "execution_count": 30,
      "outputs": [
        {
          "output_type": "stream",
          "text": [
            "<h1>Totally Normal Gifts</h1>\n"
          ],
          "name": "stdout"
        }
      ]
    },
    {
      "cell_type": "code",
      "metadata": {
        "id": "Be1gzMTFFTE8",
        "colab_type": "code",
        "outputId": "93f54177-00ea-4847-86c2-b71722ea0e09",
        "colab": {
          "base_uri": "https://localhost:8080/",
          "height": 34
        }
      },
      "source": [
        "#List of header tags\n",
        "titles = bs.find_all(['h1', 'h2','h3','h4','h5','h6'])\n",
        "print([title for title in titles])\n"
      ],
      "execution_count": 31,
      "outputs": [
        {
          "output_type": "stream",
          "text": [
            "[<h1>Totally Normal Gifts</h1>]\n"
          ],
          "name": "stdout"
        }
      ]
    },
    {
      "cell_type": "markdown",
      "metadata": {
        "id": "K51DtoKGMKlu",
        "colab_type": "text"
      },
      "source": [
        "### Find the tags, get the text and Using CSS "
      ]
    },
    {
      "cell_type": "code",
      "metadata": {
        "id": "fUDI2PfDFTE5",
        "colab_type": "code",
        "outputId": "cddfc1b1-f68c-4127-d66f-a026f9502694",
        "colab": {
          "base_uri": "https://localhost:8080/",
          "height": 119
        }
      },
      "source": [
        "#Sometimes there might be multiple tags with the same names, but different classes or id\n",
        "divList = bs.findAll('div', {'id': 'content'})\n",
        "for tag in divList:\n",
        "    print(tag.get_text())"
      ],
      "execution_count": 32,
      "outputs": [
        {
          "output_type": "stream",
          "text": [
            "Here is a collection of totally normal, totally reasonable gifts that your friends are sure to love! Our collection is\n",
            "hand-curated by well-paid, free-range Tibetan monks.\n",
            "We haven't figured out how to make online shopping carts yet, but you can send us a check to:\n",
            "123 Main St.\n",
            "Abuja, Nigeria\n",
            "We will then send your totally amazing gift, pronto! Please include an extra $5.00 for gift wrapping.\n"
          ],
          "name": "stdout"
        }
      ]
    },
    {
      "cell_type": "code",
      "metadata": {
        "id": "cwrjfr3kFTFA",
        "colab_type": "code",
        "outputId": "222a5b94-c5ae-450d-ccae-7bdc61118f5f",
        "colab": {
          "base_uri": "https://localhost:8080/",
          "height": 54
        }
      },
      "source": [
        "boldText = bs.find_all('span', {'class':'excitingNote'})\n",
        "print([text for text in boldText])"
      ],
      "execution_count": 33,
      "outputs": [
        {
          "output_type": "stream",
          "text": [
            "[<span class=\"excitingNote\">Now with super-colorful bell peppers!</span>, <span class=\"excitingNote\">8 entire dolls per set! Octuple the presents!</span>, <span class=\"excitingNote\">Also hand-painted by trained monkeys!</span>, <span class=\"excitingNote\">Or maybe he's only resting?</span>, <span class=\"excitingNote\">Keep your friends guessing!</span>]\n"
          ],
          "name": "stdout"
        }
      ]
    },
    {
      "cell_type": "code",
      "metadata": {
        "id": "9gSSezrXFTFE",
        "colab_type": "code",
        "outputId": "6b2d5c0e-8862-4de4-98f8-6514b6e76d7f",
        "colab": {
          "base_uri": "https://localhost:8080/",
          "height": 190
        }
      },
      "source": [
        "row = bs.find_all(id='gift5', class_='gift')\n",
        "print([text for text in row])"
      ],
      "execution_count": 34,
      "outputs": [
        {
          "output_type": "stream",
          "text": [
            "[<tr class=\"gift\" id=\"gift5\"><td>\n",
            "Mystery Box\n",
            "</td><td>\n",
            "If you love suprises, this mystery box is for you! Do not place on light-colored surfaces. May cause oil staining. <span class=\"excitingNote\">Keep your friends guessing!</span>\n",
            "</td><td>\n",
            "$1.50\n",
            "</td><td>\n",
            "<img src=\"../img/gifts/img6.jpg\"/>\n",
            "</td></tr>]\n"
          ],
          "name": "stdout"
        }
      ]
    },
    {
      "cell_type": "markdown",
      "metadata": {
        "id": "7R7vbTNhJS8Z",
        "colab_type": "text"
      },
      "source": [
        "## Write a CSV File"
      ]
    },
    {
      "cell_type": "markdown",
      "metadata": {
        "id": "vM3SZDcD7DeY",
        "colab_type": "text"
      },
      "source": [
        "![alt text](https://github.com/Ruqyai/Web-Scraper/blob/master/web/csv.jpg?raw=true/)"
      ]
    },
    {
      "cell_type": "code",
      "metadata": {
        "id": "Ghel7yQOGBpR",
        "colab_type": "code",
        "outputId": "4f4474a3-9839-4e81-d619-b2d4426a7a31",
        "colab": {
          "base_uri": "https://localhost:8080/",
          "height": 88
        }
      },
      "source": [
        "# name the output file to write to local disk\n",
        "out_filename = \"file.csv\"\n",
        "# header of csv file to be written\n",
        "headers = \"exciting Note, image  \\n\"\n",
        "allRows = bs.find_all('span', {'class':'excitingNote'})\n",
        "print(allRows)\n",
        "images= bs.find_all('img', {'src':re.compile('\\.\\.\\/img\\/gifts/img.*\\.jpg')})\n",
        "print(images)\n",
        "img=[]\n",
        "for image in images: \n",
        "    img.append(image['src'])\n",
        "print(img)"
      ],
      "execution_count": 35,
      "outputs": [
        {
          "output_type": "stream",
          "text": [
            "[<span class=\"excitingNote\">Now with super-colorful bell peppers!</span>, <span class=\"excitingNote\">8 entire dolls per set! Octuple the presents!</span>, <span class=\"excitingNote\">Also hand-painted by trained monkeys!</span>, <span class=\"excitingNote\">Or maybe he's only resting?</span>, <span class=\"excitingNote\">Keep your friends guessing!</span>]\n",
            "[<img src=\"../img/gifts/img1.jpg\"/>, <img src=\"../img/gifts/img2.jpg\"/>, <img src=\"../img/gifts/img3.jpg\"/>, <img src=\"../img/gifts/img4.jpg\"/>, <img src=\"../img/gifts/img6.jpg\"/>]\n",
            "['../img/gifts/img1.jpg', '../img/gifts/img2.jpg', '../img/gifts/img3.jpg', '../img/gifts/img4.jpg', '../img/gifts/img6.jpg']\n"
          ],
          "name": "stdout"
        }
      ]
    },
    {
      "cell_type": "code",
      "metadata": {
        "id": "0wyZsQ8tGXIc",
        "colab_type": "code",
        "colab": {}
      },
      "source": [
        "# opens file, and writes headers\n",
        "f = open(out_filename, \"w\")\n",
        "f.write(headers)\n",
        "# loops \n",
        "i=0\n",
        "for value in allRows:\n",
        "    row = value.get_text()\n",
        "    #Parse it if that's necessary\n",
        "    row = row.replace(',', '')\n",
        "    imgs=img[i]\n",
        "    # write to file\n",
        "    f.write(row +\", \" + imgs +\"\\n\")\n",
        "    #increase i\n",
        "    i=i+1\n",
        "f.close()  # Close the file"
      ],
      "execution_count": 0,
      "outputs": []
    },
    {
      "cell_type": "code",
      "metadata": {
        "id": "E2Xhv43VjrOJ",
        "colab_type": "code",
        "outputId": "0827dceb-c79a-4db2-a5b1-eafbbba0d7ee",
        "colab": {
          "base_uri": "https://localhost:8080/",
          "height": 119
        }
      },
      "source": [
        "#show the file\n",
        "!cat file.csv"
      ],
      "execution_count": 37,
      "outputs": [
        {
          "output_type": "stream",
          "text": [
            "exciting Note, image  \n",
            "Now with super-colorful bell peppers!, ../img/gifts/img1.jpg\n",
            "8 entire dolls per set! Octuple the presents!, ../img/gifts/img2.jpg\n",
            "Also hand-painted by trained monkeys!, ../img/gifts/img3.jpg\n",
            "Or maybe he's only resting?, ../img/gifts/img4.jpg\n",
            "Keep your friends guessing!, ../img/gifts/img6.jpg\n"
          ],
          "name": "stdout"
        }
      ]
    },
    {
      "cell_type": "markdown",
      "metadata": {
        "id": "D_6Pj8tHJcIa",
        "colab_type": "text"
      },
      "source": [
        "## Show The CSV File"
      ]
    },
    {
      "cell_type": "code",
      "metadata": {
        "id": "idIXfBGIHboe",
        "colab_type": "code",
        "outputId": "bcd6336e-d59f-458d-a3af-0477d4631f9c",
        "colab": {
          "base_uri": "https://localhost:8080/",
          "height": 204
        }
      },
      "source": [
        "import pandas as pd \n",
        "df = pd.read_csv(out_filename)\n",
        "df.head()"
      ],
      "execution_count": 38,
      "outputs": [
        {
          "output_type": "execute_result",
          "data": {
            "text/html": [
              "<div>\n",
              "<style scoped>\n",
              "    .dataframe tbody tr th:only-of-type {\n",
              "        vertical-align: middle;\n",
              "    }\n",
              "\n",
              "    .dataframe tbody tr th {\n",
              "        vertical-align: top;\n",
              "    }\n",
              "\n",
              "    .dataframe thead th {\n",
              "        text-align: right;\n",
              "    }\n",
              "</style>\n",
              "<table border=\"1\" class=\"dataframe\">\n",
              "  <thead>\n",
              "    <tr style=\"text-align: right;\">\n",
              "      <th></th>\n",
              "      <th>exciting Note</th>\n",
              "      <th>image</th>\n",
              "    </tr>\n",
              "  </thead>\n",
              "  <tbody>\n",
              "    <tr>\n",
              "      <th>0</th>\n",
              "      <td>Now with super-colorful bell peppers!</td>\n",
              "      <td>../img/gifts/img1.jpg</td>\n",
              "    </tr>\n",
              "    <tr>\n",
              "      <th>1</th>\n",
              "      <td>8 entire dolls per set! Octuple the presents!</td>\n",
              "      <td>../img/gifts/img2.jpg</td>\n",
              "    </tr>\n",
              "    <tr>\n",
              "      <th>2</th>\n",
              "      <td>Also hand-painted by trained monkeys!</td>\n",
              "      <td>../img/gifts/img3.jpg</td>\n",
              "    </tr>\n",
              "    <tr>\n",
              "      <th>3</th>\n",
              "      <td>Or maybe he's only resting?</td>\n",
              "      <td>../img/gifts/img4.jpg</td>\n",
              "    </tr>\n",
              "    <tr>\n",
              "      <th>4</th>\n",
              "      <td>Keep your friends guessing!</td>\n",
              "      <td>../img/gifts/img6.jpg</td>\n",
              "    </tr>\n",
              "  </tbody>\n",
              "</table>\n",
              "</div>"
            ],
            "text/plain": [
              "                                   exciting Note                 image  \n",
              "0          Now with super-colorful bell peppers!   ../img/gifts/img1.jpg\n",
              "1  8 entire dolls per set! Octuple the presents!   ../img/gifts/img2.jpg\n",
              "2          Also hand-painted by trained monkeys!   ../img/gifts/img3.jpg\n",
              "3                    Or maybe he's only resting?   ../img/gifts/img4.jpg\n",
              "4                    Keep your friends guessing!   ../img/gifts/img6.jpg"
            ]
          },
          "metadata": {
            "tags": []
          },
          "execution_count": 38
        }
      ]
    },
    {
      "cell_type": "markdown",
      "metadata": {
        "id": "5EBFEGkenvjD",
        "colab_type": "text"
      },
      "source": [
        "\n",
        "\n",
        "---\n",
        "\n",
        "\n",
        "\n",
        "---\n",
        "\n",
        "\n",
        "\n",
        "---\n",
        "\n"
      ]
    },
    {
      "cell_type": "markdown",
      "metadata": {
        "id": "EkKvHzlnJhAE",
        "colab_type": "text"
      },
      "source": [
        "#Example 2"
      ]
    },
    {
      "cell_type": "code",
      "metadata": {
        "id": "lcJOm4JCFTFH",
        "colab_type": "code",
        "colab": {}
      },
      "source": [
        "from urllib.request import urlopen\n",
        "from bs4 import BeautifulSoup\n",
        "\n",
        "html = urlopen('http://www.pythonscraping.com/pages/page3.html')\n",
        "bs = BeautifulSoup(html, 'html.parser')"
      ],
      "execution_count": 0,
      "outputs": []
    },
    {
      "cell_type": "code",
      "metadata": {
        "id": "XCcoHAFPFTFJ",
        "colab_type": "code",
        "colab": {}
      },
      "source": [
        "#Access to the table and tags\n",
        "table = bs.find(\"table\")\n",
        "headings = [th.get_text() for th in table.find_all(\"th\")]\n",
        "rows = [th for th in table.find_all(\"tr\")]\n",
        "#Create a list to store what are in the rows\n",
        "data = []\n",
        "for row in rows[1:]:\n",
        "  data.append([th.get_text() for th in row.find_all(\"td\")])"
      ],
      "execution_count": 0,
      "outputs": []
    },
    {
      "cell_type": "code",
      "metadata": {
        "id": "3AMGcMO1nQXz",
        "colab_type": "code",
        "colab": {
          "base_uri": "https://localhost:8080/",
          "height": 54
        },
        "outputId": "aed08f40-9472-412e-b16c-f911c233c6c4"
      },
      "source": [
        "print(data)"
      ],
      "execution_count": 41,
      "outputs": [
        {
          "output_type": "stream",
          "text": [
            "[['\\nVegetable Basket\\n', '\\nThis vegetable basket is the perfect gift for your health conscious (or overweight) friends!\\nNow with super-colorful bell peppers!\\n', '\\n$15.00\\n', '\\n\\n'], ['\\nRussian Nesting Dolls\\n', '\\nHand-painted by trained monkeys, these exquisite dolls are priceless! And by \"priceless,\" we mean \"extremely expensive\"! 8 entire dolls per set! Octuple the presents!\\n', '\\n$10,000.52\\n', '\\n\\n'], ['\\nFish Painting\\n', \"\\nIf something seems fishy about this painting, it's because it's a fish! Also hand-painted by trained monkeys!\\n\", '\\n$10,005.00\\n', '\\n\\n'], ['\\nDead Parrot\\n', \"\\nThis is an ex-parrot! Or maybe he's only resting?\\n\", '\\n$0.50\\n', '\\n\\n'], ['\\nMystery Box\\n', '\\nIf you love suprises, this mystery box is for you! Do not place on light-colored surfaces. May cause oil staining. Keep your friends guessing!\\n', '\\n$1.50\\n', '\\n\\n']]\n"
          ],
          "name": "stdout"
        }
      ]
    },
    {
      "cell_type": "code",
      "metadata": {
        "id": "nRLi-OgTnJBd",
        "colab_type": "code",
        "colab": {
          "base_uri": "https://localhost:8080/",
          "height": 204
        },
        "outputId": "c4fb8434-db1e-4489-907b-0be80936a30b"
      },
      "source": [
        "# Create a Data Fram \n",
        "data = pd.DataFrame(data, columns=headings)\n",
        "data.head() # show how it's look"
      ],
      "execution_count": 42,
      "outputs": [
        {
          "output_type": "execute_result",
          "data": {
            "text/html": [
              "<div>\n",
              "<style scoped>\n",
              "    .dataframe tbody tr th:only-of-type {\n",
              "        vertical-align: middle;\n",
              "    }\n",
              "\n",
              "    .dataframe tbody tr th {\n",
              "        vertical-align: top;\n",
              "    }\n",
              "\n",
              "    .dataframe thead th {\n",
              "        text-align: right;\n",
              "    }\n",
              "</style>\n",
              "<table border=\"1\" class=\"dataframe\">\n",
              "  <thead>\n",
              "    <tr style=\"text-align: right;\">\n",
              "      <th></th>\n",
              "      <th>\\nItem Title\\n</th>\n",
              "      <th>\\nDescription\\n</th>\n",
              "      <th>\\nCost\\n</th>\n",
              "      <th>\\nImage\\n</th>\n",
              "    </tr>\n",
              "  </thead>\n",
              "  <tbody>\n",
              "    <tr>\n",
              "      <th>0</th>\n",
              "      <td>\\nVegetable Basket\\n</td>\n",
              "      <td>\\nThis vegetable basket is the perfect gift fo...</td>\n",
              "      <td>\\n$15.00\\n</td>\n",
              "      <td>\\n\\n</td>\n",
              "    </tr>\n",
              "    <tr>\n",
              "      <th>1</th>\n",
              "      <td>\\nRussian Nesting Dolls\\n</td>\n",
              "      <td>\\nHand-painted by trained monkeys, these exqui...</td>\n",
              "      <td>\\n$10,000.52\\n</td>\n",
              "      <td>\\n\\n</td>\n",
              "    </tr>\n",
              "    <tr>\n",
              "      <th>2</th>\n",
              "      <td>\\nFish Painting\\n</td>\n",
              "      <td>\\nIf something seems fishy about this painting...</td>\n",
              "      <td>\\n$10,005.00\\n</td>\n",
              "      <td>\\n\\n</td>\n",
              "    </tr>\n",
              "    <tr>\n",
              "      <th>3</th>\n",
              "      <td>\\nDead Parrot\\n</td>\n",
              "      <td>\\nThis is an ex-parrot! Or maybe he's only res...</td>\n",
              "      <td>\\n$0.50\\n</td>\n",
              "      <td>\\n\\n</td>\n",
              "    </tr>\n",
              "    <tr>\n",
              "      <th>4</th>\n",
              "      <td>\\nMystery Box\\n</td>\n",
              "      <td>\\nIf you love suprises, this mystery box is fo...</td>\n",
              "      <td>\\n$1.50\\n</td>\n",
              "      <td>\\n\\n</td>\n",
              "    </tr>\n",
              "  </tbody>\n",
              "</table>\n",
              "</div>"
            ],
            "text/plain": [
              "              \\nItem Title\\n  ... \\nImage\\n\n",
              "0       \\nVegetable Basket\\n  ...      \\n\\n\n",
              "1  \\nRussian Nesting Dolls\\n  ...      \\n\\n\n",
              "2          \\nFish Painting\\n  ...      \\n\\n\n",
              "3            \\nDead Parrot\\n  ...      \\n\\n\n",
              "4            \\nMystery Box\\n  ...      \\n\\n\n",
              "\n",
              "[5 rows x 4 columns]"
            ]
          },
          "metadata": {
            "tags": []
          },
          "execution_count": 42
        }
      ]
    },
    {
      "cell_type": "markdown",
      "metadata": {
        "id": "wreBWKwwdXT5",
        "colab_type": "text"
      },
      "source": [
        "##Parse it if that's necessary"
      ]
    },
    {
      "cell_type": "markdown",
      "metadata": {
        "id": "tY4eHKEK7-FP",
        "colab_type": "text"
      },
      "source": [
        "\n",
        "Here are a few useful Regex resources:  \n",
        "\n",
        "https://regexr.com — Learn, build and test Regex  \n",
        "\n"
      ]
    },
    {
      "cell_type": "code",
      "metadata": {
        "id": "gn4S4lhvYC14",
        "colab_type": "code",
        "colab": {
          "base_uri": "https://localhost:8080/",
          "height": 204
        },
        "outputId": "c9aac90d-1be8-446c-e60a-66dad67ed62e"
      },
      "source": [
        "# some preprocessing for the heading columns\n",
        "data = data.rename(columns=lambda x: x.replace('\\n','').replace(',','')) \n",
        "data.head() "
      ],
      "execution_count": 43,
      "outputs": [
        {
          "output_type": "execute_result",
          "data": {
            "text/html": [
              "<div>\n",
              "<style scoped>\n",
              "    .dataframe tbody tr th:only-of-type {\n",
              "        vertical-align: middle;\n",
              "    }\n",
              "\n",
              "    .dataframe tbody tr th {\n",
              "        vertical-align: top;\n",
              "    }\n",
              "\n",
              "    .dataframe thead th {\n",
              "        text-align: right;\n",
              "    }\n",
              "</style>\n",
              "<table border=\"1\" class=\"dataframe\">\n",
              "  <thead>\n",
              "    <tr style=\"text-align: right;\">\n",
              "      <th></th>\n",
              "      <th>Item Title</th>\n",
              "      <th>Description</th>\n",
              "      <th>Cost</th>\n",
              "      <th>Image</th>\n",
              "    </tr>\n",
              "  </thead>\n",
              "  <tbody>\n",
              "    <tr>\n",
              "      <th>0</th>\n",
              "      <td>\\nVegetable Basket\\n</td>\n",
              "      <td>\\nThis vegetable basket is the perfect gift fo...</td>\n",
              "      <td>\\n$15.00\\n</td>\n",
              "      <td>\\n\\n</td>\n",
              "    </tr>\n",
              "    <tr>\n",
              "      <th>1</th>\n",
              "      <td>\\nRussian Nesting Dolls\\n</td>\n",
              "      <td>\\nHand-painted by trained monkeys, these exqui...</td>\n",
              "      <td>\\n$10,000.52\\n</td>\n",
              "      <td>\\n\\n</td>\n",
              "    </tr>\n",
              "    <tr>\n",
              "      <th>2</th>\n",
              "      <td>\\nFish Painting\\n</td>\n",
              "      <td>\\nIf something seems fishy about this painting...</td>\n",
              "      <td>\\n$10,005.00\\n</td>\n",
              "      <td>\\n\\n</td>\n",
              "    </tr>\n",
              "    <tr>\n",
              "      <th>3</th>\n",
              "      <td>\\nDead Parrot\\n</td>\n",
              "      <td>\\nThis is an ex-parrot! Or maybe he's only res...</td>\n",
              "      <td>\\n$0.50\\n</td>\n",
              "      <td>\\n\\n</td>\n",
              "    </tr>\n",
              "    <tr>\n",
              "      <th>4</th>\n",
              "      <td>\\nMystery Box\\n</td>\n",
              "      <td>\\nIf you love suprises, this mystery box is fo...</td>\n",
              "      <td>\\n$1.50\\n</td>\n",
              "      <td>\\n\\n</td>\n",
              "    </tr>\n",
              "  </tbody>\n",
              "</table>\n",
              "</div>"
            ],
            "text/plain": [
              "                  Item Title  ... Image\n",
              "0       \\nVegetable Basket\\n  ...  \\n\\n\n",
              "1  \\nRussian Nesting Dolls\\n  ...  \\n\\n\n",
              "2          \\nFish Painting\\n  ...  \\n\\n\n",
              "3            \\nDead Parrot\\n  ...  \\n\\n\n",
              "4            \\nMystery Box\\n  ...  \\n\\n\n",
              "\n",
              "[5 rows x 4 columns]"
            ]
          },
          "metadata": {
            "tags": []
          },
          "execution_count": 43
        }
      ]
    },
    {
      "cell_type": "code",
      "metadata": {
        "id": "wbiY8ZPLYojd",
        "colab_type": "code",
        "colab": {
          "base_uri": "https://localhost:8080/",
          "height": 204
        },
        "outputId": "2305a2ef-862c-4e30-b606-6393737a1ffd"
      },
      "source": [
        "# some preprocessing for the rest rows\n",
        "data = data.replace('\\n', '', regex=True)\n",
        "data = data.replace(',', '', regex=True)\n",
        "data = data.replace('  ', '', regex=True)\n",
        "\n",
        "#drop Image column\n",
        "data = data.drop('Image',axis=1)\n",
        "data.head()"
      ],
      "execution_count": 44,
      "outputs": [
        {
          "output_type": "execute_result",
          "data": {
            "text/html": [
              "<div>\n",
              "<style scoped>\n",
              "    .dataframe tbody tr th:only-of-type {\n",
              "        vertical-align: middle;\n",
              "    }\n",
              "\n",
              "    .dataframe tbody tr th {\n",
              "        vertical-align: top;\n",
              "    }\n",
              "\n",
              "    .dataframe thead th {\n",
              "        text-align: right;\n",
              "    }\n",
              "</style>\n",
              "<table border=\"1\" class=\"dataframe\">\n",
              "  <thead>\n",
              "    <tr style=\"text-align: right;\">\n",
              "      <th></th>\n",
              "      <th>Item Title</th>\n",
              "      <th>Description</th>\n",
              "      <th>Cost</th>\n",
              "    </tr>\n",
              "  </thead>\n",
              "  <tbody>\n",
              "    <tr>\n",
              "      <th>0</th>\n",
              "      <td>Vegetable Basket</td>\n",
              "      <td>This vegetable basket is the perfect gift for ...</td>\n",
              "      <td>$15.00</td>\n",
              "    </tr>\n",
              "    <tr>\n",
              "      <th>1</th>\n",
              "      <td>Russian Nesting Dolls</td>\n",
              "      <td>Hand-painted by trained monkeys these exquisit...</td>\n",
              "      <td>$10000.52</td>\n",
              "    </tr>\n",
              "    <tr>\n",
              "      <th>2</th>\n",
              "      <td>Fish Painting</td>\n",
              "      <td>If something seems fishy about this painting i...</td>\n",
              "      <td>$10005.00</td>\n",
              "    </tr>\n",
              "    <tr>\n",
              "      <th>3</th>\n",
              "      <td>Dead Parrot</td>\n",
              "      <td>This is an ex-parrot! Or maybe he's only resting?</td>\n",
              "      <td>$0.50</td>\n",
              "    </tr>\n",
              "    <tr>\n",
              "      <th>4</th>\n",
              "      <td>Mystery Box</td>\n",
              "      <td>If you love suprises this mystery box is for y...</td>\n",
              "      <td>$1.50</td>\n",
              "    </tr>\n",
              "  </tbody>\n",
              "</table>\n",
              "</div>"
            ],
            "text/plain": [
              "              Item Title  ...       Cost\n",
              "0       Vegetable Basket  ...     $15.00\n",
              "1  Russian Nesting Dolls  ...  $10000.52\n",
              "2          Fish Painting  ...  $10005.00\n",
              "3            Dead Parrot  ...      $0.50\n",
              "4            Mystery Box  ...      $1.50\n",
              "\n",
              "[5 rows x 3 columns]"
            ]
          },
          "metadata": {
            "tags": []
          },
          "execution_count": 44
        }
      ]
    },
    {
      "cell_type": "markdown",
      "metadata": {
        "id": "Yq_0-hXII8lI",
        "colab_type": "text"
      },
      "source": [
        "## Save to CSV File"
      ]
    },
    {
      "cell_type": "code",
      "metadata": {
        "id": "6GojZQqoaVz5",
        "colab_type": "code",
        "colab": {}
      },
      "source": [
        "# Convert the DataFram to CSV file \n",
        "data.to_csv('file2.csv', index=False)"
      ],
      "execution_count": 0,
      "outputs": []
    },
    {
      "cell_type": "code",
      "metadata": {
        "id": "lxIuvDvTlUR7",
        "colab_type": "code",
        "colab": {
          "base_uri": "https://localhost:8080/",
          "height": 139
        },
        "outputId": "b02db878-14ed-4d84-f1c3-484cec99bee6"
      },
      "source": [
        "#show the file\n",
        "!cat file2.csv"
      ],
      "execution_count": 46,
      "outputs": [
        {
          "output_type": "stream",
          "text": [
            "Item Title,Description,Cost\n",
            "Vegetable Basket,This vegetable basket is the perfect gift for your health conscious (or overweight) friends!Now with super-colorful bell peppers!,$15.00\n",
            "Russian Nesting Dolls,\"Hand-painted by trained monkeys these exquisite dolls are priceless! And by \"\"priceless\"\" we mean \"\"extremely expensive\"\"! 8 entire dolls per set! Octuple the presents!\",$10000.52\n",
            "Fish Painting,If something seems fishy about this painting it's because it's a fish! Also hand-painted by trained monkeys!,$10005.00\n",
            "Dead Parrot,This is an ex-parrot! Or maybe he's only resting?,$0.50\n",
            "Mystery Box,If you love suprises this mystery box is for you! Do not place on light-colored surfaces. May cause oil staining. Keep your friends guessing!,$1.50\n"
          ],
          "name": "stdout"
        }
      ]
    },
    {
      "cell_type": "markdown",
      "metadata": {
        "id": "lOETjK8Nn02N",
        "colab_type": "text"
      },
      "source": [
        "\n",
        "\n",
        "---\n",
        "\n",
        "\n",
        "\n",
        "---\n",
        "\n",
        "\n",
        "\n",
        "---\n",
        "\n"
      ]
    },
    {
      "cell_type": "markdown",
      "metadata": {
        "id": "dI3ll223Mcoa",
        "colab_type": "text"
      },
      "source": [
        "#Example 3"
      ]
    },
    {
      "cell_type": "markdown",
      "metadata": {
        "id": "1Mrt_v2MM0na",
        "colab_type": "text"
      },
      "source": [
        "## Query and condition"
      ]
    },
    {
      "cell_type": "code",
      "metadata": {
        "id": "b5s_0iMrFTFM",
        "colab_type": "code",
        "colab": {}
      },
      "source": [
        "from urllib.request import urlopen\n",
        "from bs4 import BeautifulSoup\n",
        "\n",
        "html = urlopen('http://www.pythonscraping.com/pages/page3.html')\n",
        "bs = BeautifulSoup(html, 'html.parser')"
      ],
      "execution_count": 0,
      "outputs": []
    },
    {
      "cell_type": "code",
      "metadata": {
        "id": "hiYYTEGe8eZ5",
        "colab_type": "code",
        "colab": {
          "base_uri": "https://localhost:8080/",
          "height": 68
        },
        "outputId": "ca486882-833f-4874-b18f-3f53eee8e4a0"
      },
      "source": [
        "# reach to the price from the nearest image to it\n",
        "price = bs.find('img', {'src':'../img/gifts/img1.jpg'}).parent.previous_sibling.get_text()\n",
        "print(price)"
      ],
      "execution_count": 48,
      "outputs": [
        {
          "output_type": "stream",
          "text": [
            "\n",
            "$15.00\n",
            "\n"
          ],
          "name": "stdout"
        }
      ]
    },
    {
      "cell_type": "code",
      "metadata": {
        "id": "4IIblIBdFTFT",
        "colab_type": "code",
        "colab": {
          "base_uri": "https://localhost:8080/",
          "height": 34
        },
        "outputId": "04693fc4-b7b8-4018-f49f-1fdb8ca25b5d"
      },
      "source": [
        "# get the tags with certain text\n",
        "bs.find_all(lambda tag: tag.get_text() == 'Or maybe he\\'s only resting?')"
      ],
      "execution_count": 49,
      "outputs": [
        {
          "output_type": "execute_result",
          "data": {
            "text/plain": [
              "[<span class=\"excitingNote\">Or maybe he's only resting?</span>]"
            ]
          },
          "metadata": {
            "tags": []
          },
          "execution_count": 49
        }
      ]
    },
    {
      "cell_type": "code",
      "metadata": {
        "id": "rIvcebZDFTFX",
        "colab_type": "code",
        "colab": {
          "base_uri": "https://localhost:8080/",
          "height": 34
        },
        "outputId": "c6e33c96-3725-4921-e2b2-ffd3b77dd827"
      },
      "source": [
        "# Search about certain text\n",
        "bs.find_all('', text='Or maybe he\\'s only resting?')"
      ],
      "execution_count": 50,
      "outputs": [
        {
          "output_type": "execute_result",
          "data": {
            "text/plain": [
              "[\"Or maybe he's only resting?\"]"
            ]
          },
          "metadata": {
            "tags": []
          },
          "execution_count": 50
        }
      ]
    },
    {
      "cell_type": "code",
      "metadata": {
        "id": "2h-fleu1FTFC",
        "colab_type": "code",
        "colab": {
          "base_uri": "https://localhost:8080/",
          "height": 34
        },
        "outputId": "f24e638f-22a0-4f5e-9771-ddfcaba0f086"
      },
      "source": [
        "#Find how many this text repeat in the page\n",
        "textList = bs.find_all(text='Now with super-colorful bell peppers!')\n",
        "print(len(textList))"
      ],
      "execution_count": 51,
      "outputs": [
        {
          "output_type": "stream",
          "text": [
            "1\n"
          ],
          "name": "stdout"
        }
      ]
    }
  ]
}